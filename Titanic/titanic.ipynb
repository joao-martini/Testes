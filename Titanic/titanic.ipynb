{
 "cells": [
  {
   "cell_type": "code",
   "execution_count": 4,
   "metadata": {},
   "outputs": [],
   "source": [
    "import numpy as np\n",
    "import pandas as pd\n",
    "import matplotlib.pyplot as plt\n",
    "import seaborn as sns\n",
    "import scipy.stats as st\n",
    "from statsmodels.stats.weightstats import ztest\n",
    "\n",
    "from sklearn.compose import ColumnTransformer\n",
    "from sklearn.pipeline import Pipeline\n",
    "from sklearn.impute import SimpleImputer\n",
    "from sklearn.preprocessing import StandardScaler, OneHotEncoder, OrdinalEncoder\n",
    "from sklearn.ensemble import RandomForestClassifier\n",
    "from sklearn.linear_model import LogisticRegression\n",
    "from sklearn.model_selection import train_test_split\n",
    "from sklearn.metrics import accuracy_score"
   ]
  },
  {
   "cell_type": "code",
   "execution_count": 5,
   "metadata": {},
   "outputs": [],
   "source": [
    "df = pd.read_csv(\"dataset_titanic/train.csv\")\n",
    "cols = ['Pclass', 'Sex', 'Age', 'Fare', 'Embarked']\n",
    "df = df[cols + [\"Survived\"]]"
   ]
  },
  {
   "cell_type": "code",
   "execution_count": 6,
   "metadata": {},
   "outputs": [
    {
     "data": {
      "text/html": [
       "<div>\n",
       "<style scoped>\n",
       "    .dataframe tbody tr th:only-of-type {\n",
       "        vertical-align: middle;\n",
       "    }\n",
       "\n",
       "    .dataframe tbody tr th {\n",
       "        vertical-align: top;\n",
       "    }\n",
       "\n",
       "    .dataframe thead th {\n",
       "        text-align: right;\n",
       "    }\n",
       "</style>\n",
       "<table border=\"1\" class=\"dataframe\">\n",
       "  <thead>\n",
       "    <tr style=\"text-align: right;\">\n",
       "      <th></th>\n",
       "      <th>Pclass</th>\n",
       "      <th>Sex</th>\n",
       "      <th>Age</th>\n",
       "      <th>Fare</th>\n",
       "      <th>Embarked</th>\n",
       "      <th>Survived</th>\n",
       "    </tr>\n",
       "  </thead>\n",
       "  <tbody>\n",
       "    <tr>\n",
       "      <th>0</th>\n",
       "      <td>3</td>\n",
       "      <td>male</td>\n",
       "      <td>22.0</td>\n",
       "      <td>7.2500</td>\n",
       "      <td>S</td>\n",
       "      <td>0</td>\n",
       "    </tr>\n",
       "    <tr>\n",
       "      <th>1</th>\n",
       "      <td>1</td>\n",
       "      <td>female</td>\n",
       "      <td>38.0</td>\n",
       "      <td>71.2833</td>\n",
       "      <td>C</td>\n",
       "      <td>1</td>\n",
       "    </tr>\n",
       "    <tr>\n",
       "      <th>2</th>\n",
       "      <td>3</td>\n",
       "      <td>female</td>\n",
       "      <td>26.0</td>\n",
       "      <td>7.9250</td>\n",
       "      <td>S</td>\n",
       "      <td>1</td>\n",
       "    </tr>\n",
       "    <tr>\n",
       "      <th>3</th>\n",
       "      <td>1</td>\n",
       "      <td>female</td>\n",
       "      <td>35.0</td>\n",
       "      <td>53.1000</td>\n",
       "      <td>S</td>\n",
       "      <td>1</td>\n",
       "    </tr>\n",
       "    <tr>\n",
       "      <th>4</th>\n",
       "      <td>3</td>\n",
       "      <td>male</td>\n",
       "      <td>35.0</td>\n",
       "      <td>8.0500</td>\n",
       "      <td>S</td>\n",
       "      <td>0</td>\n",
       "    </tr>\n",
       "  </tbody>\n",
       "</table>\n",
       "</div>"
      ],
      "text/plain": [
       "   Pclass     Sex   Age     Fare Embarked  Survived\n",
       "0       3    male  22.0   7.2500        S         0\n",
       "1       1  female  38.0  71.2833        C         1\n",
       "2       3  female  26.0   7.9250        S         1\n",
       "3       1  female  35.0  53.1000        S         1\n",
       "4       3    male  35.0   8.0500        S         0"
      ]
     },
     "execution_count": 6,
     "metadata": {},
     "output_type": "execute_result"
    }
   ],
   "source": [
    "df.isna().sum()\n",
    "df.head()"
   ]
  },
  {
   "cell_type": "markdown",
   "metadata": {},
   "source": [
    "# Features and Target"
   ]
  },
  {
   "cell_type": "code",
   "execution_count": 7,
   "metadata": {},
   "outputs": [],
   "source": [
    "X = df[cols]\n",
    "y = df[\"Survived\"]"
   ]
  },
  {
   "cell_type": "markdown",
   "metadata": {},
   "source": [
    "# Pipeline for numeric, categorical and binary features"
   ]
  },
  {
   "cell_type": "code",
   "execution_count": 8,
   "metadata": {},
   "outputs": [],
   "source": [
    "numeric_features = [\"Age\", \"Fare\"]\n",
    "categorical_features = [\"Pclass\", \"Embarked\"]\n",
    "binary_features = [\"Sex\"]"
   ]
  },
  {
   "cell_type": "code",
   "execution_count": 9,
   "metadata": {},
   "outputs": [],
   "source": [
    "numeric_transformer = Pipeline(\n",
    "    steps = [(\"imputer\", SimpleImputer(strategy=\"median\")), (\"scaler\", StandardScaler())])\n",
    "\n",
    "categorical_transformer = Pipeline(\n",
    "    steps = [(\"imputer\", SimpleImputer(strategy=\"most_frequent\")), (\"ohe\", OneHotEncoder(handle_unknown=\"ignore\"))]\n",
    ")\n",
    "\n",
    "binary_transformer = Pipeline(\n",
    "    steps = [(\"imputer\", SimpleImputer(strategy=\"most_frequent\")), (\"ohe\", OrdinalEncoder())]\n",
    ")\n",
    "\n",
    "preprocessor = ColumnTransformer(\n",
    "    transformers=[\n",
    "        (\"num\", numeric_transformer, numeric_features),\n",
    "        (\"cat\", categorical_transformer, categorical_features),\n",
    "        (\"bin\", binary_transformer, binary_features),\n",
    "    ]\n",
    ")\n"
   ]
  },
  {
   "cell_type": "markdown",
   "metadata": {},
   "source": [
    "# First Experiment: Compare Logistic Regression and Random Forest"
   ]
  },
  {
   "cell_type": "code",
   "execution_count": 10,
   "metadata": {},
   "outputs": [
    {
     "name": "stdout",
     "output_type": "stream",
     "text": [
      "X_train =  (623, 5)\n",
      "X_test =  (268, 5)\n",
      "y_train =  (623,)\n",
      "y_test =  (268,)\n"
     ]
    }
   ],
   "source": [
    "seed = 10\n",
    "X_train, X_test, y_train, y_test = train_test_split(X, y, test_size=0.3, random_state=seed, stratify=y)\n",
    "print(\"X_train = \", X_train.shape)\n",
    "print(\"X_test = \", X_test.shape)\n",
    "print(\"y_train = \", y_train.shape)\n",
    "print(\"y_test = \", y_test.shape)\n"
   ]
  },
  {
   "cell_type": "code",
   "execution_count": 11,
   "metadata": {},
   "outputs": [
    {
     "name": "stdout",
     "output_type": "stream",
     "text": [
      "0.7798507462686567 0.8171641791044776\n",
      "Random Forest 0.8171641791044776\n"
     ]
    }
   ],
   "source": [
    "def predict_model(model_pipe, X_train, X_test, y_test):\n",
    "    model_pipe.fit(X_train, y_train)\n",
    "    y_pred = model_pipe.predict(X_test)\n",
    "    score_model = accuracy_score(y_test, y_pred)\n",
    "    return score_model\n",
    "\n",
    "\n",
    "#Logistic Regression\n",
    "pipe_dt = Pipeline(\n",
    "    [('preprocessor', preprocessor), \n",
    "    ('estimator', LogisticRegression(random_state=seed))]\n",
    ")\n",
    "#Random Forest\n",
    "pipe_rn = Pipeline(\n",
    "    [(\"preprocessor\", preprocessor),\n",
    "    (\"estimator\", RandomForestClassifier(random_state=seed))]\n",
    ")\n",
    "\n",
    "\n",
    "acc_lr = predict_model(pipe_dt, X_train, X_test, y_test)\n",
    "acc_rf = predict_model(pipe_rn, X_train, X_test, y_test)\n",
    "\n",
    "print(acc_lr, acc_rf)\n",
    "\n",
    "if (acc_lr > acc_rf):\n",
    "    print(\"Logistic Regression\", acc_lr)\n",
    "elif (acc_lr < acc_rf):\n",
    "    print(\"Random Forest\", acc_rf)\n"
   ]
  },
  {
   "cell_type": "markdown",
   "metadata": {},
   "source": [
    "# Second Experiment"
   ]
  },
  {
   "cell_type": "markdown",
   "metadata": {},
   "source": [
    "<h5> Instead of running each model just once, we are going to run them 25 times (with different training and tests datasets) <h5>"
   ]
  },
  {
   "cell_type": "code",
   "execution_count": 12,
   "metadata": {},
   "outputs": [],
   "source": [
    "results_rn = []\n",
    "results_lr = []\n",
    "\n",
    "\n",
    "local_seed = 11\n",
    "for i in range(25):\n",
    "    X_train, X_test, y_train, y_test = train_test_split(X, y, test_size=0.3, stratify=y, random_state=local_seed)\n",
    "    #Logistic Regression\n",
    "    pipe_dt = Pipeline(\n",
    "        [('preprocessor', preprocessor), \n",
    "        ('estimator', LogisticRegression(random_state=seed))]\n",
    "    )\n",
    "    #Random Forest\n",
    "    pipe_rn = Pipeline(\n",
    "        [(\"preprocessor\", preprocessor),\n",
    "        (\"estimator\", RandomForestClassifier(random_state=seed))]\n",
    "    )\n",
    "    acc_lr = predict_model(pipe_dt, X_train, X_test, y_test)\n",
    "    acc_rn = predict_model(pipe_rn, X_train, X_test, y_test)\n",
    "    results_lr.append(acc_lr)\n",
    "    results_rn.append(acc_rn)\n",
    "    \n",
    "    local_seed = local_seed + 10\n"
   ]
  },
  {
   "cell_type": "code",
   "execution_count": 13,
   "metadata": {},
   "outputs": [
    {
     "data": {
      "text/html": [
       "<div>\n",
       "<style scoped>\n",
       "    .dataframe tbody tr th:only-of-type {\n",
       "        vertical-align: middle;\n",
       "    }\n",
       "\n",
       "    .dataframe tbody tr th {\n",
       "        vertical-align: top;\n",
       "    }\n",
       "\n",
       "    .dataframe thead th {\n",
       "        text-align: right;\n",
       "    }\n",
       "</style>\n",
       "<table border=\"1\" class=\"dataframe\">\n",
       "  <thead>\n",
       "    <tr style=\"text-align: right;\">\n",
       "      <th></th>\n",
       "      <th>Logistic Regression</th>\n",
       "      <th>Random Forest</th>\n",
       "    </tr>\n",
       "  </thead>\n",
       "  <tbody>\n",
       "    <tr>\n",
       "      <th>count</th>\n",
       "      <td>25.000000</td>\n",
       "      <td>25.000000</td>\n",
       "    </tr>\n",
       "    <tr>\n",
       "      <th>mean</th>\n",
       "      <td>0.794925</td>\n",
       "      <td>0.813284</td>\n",
       "    </tr>\n",
       "    <tr>\n",
       "      <th>std</th>\n",
       "      <td>0.026527</td>\n",
       "      <td>0.020451</td>\n",
       "    </tr>\n",
       "    <tr>\n",
       "      <th>min</th>\n",
       "      <td>0.746269</td>\n",
       "      <td>0.776119</td>\n",
       "    </tr>\n",
       "    <tr>\n",
       "      <th>25%</th>\n",
       "      <td>0.772388</td>\n",
       "      <td>0.798507</td>\n",
       "    </tr>\n",
       "    <tr>\n",
       "      <th>50%</th>\n",
       "      <td>0.794776</td>\n",
       "      <td>0.820896</td>\n",
       "    </tr>\n",
       "    <tr>\n",
       "      <th>75%</th>\n",
       "      <td>0.820896</td>\n",
       "      <td>0.832090</td>\n",
       "    </tr>\n",
       "    <tr>\n",
       "      <th>max</th>\n",
       "      <td>0.839552</td>\n",
       "      <td>0.843284</td>\n",
       "    </tr>\n",
       "  </tbody>\n",
       "</table>\n",
       "</div>"
      ],
      "text/plain": [
       "       Logistic Regression  Random Forest\n",
       "count            25.000000      25.000000\n",
       "mean              0.794925       0.813284\n",
       "std               0.026527       0.020451\n",
       "min               0.746269       0.776119\n",
       "25%               0.772388       0.798507\n",
       "50%               0.794776       0.820896\n",
       "75%               0.820896       0.832090\n",
       "max               0.839552       0.843284"
      ]
     },
     "execution_count": 13,
     "metadata": {},
     "output_type": "execute_result"
    }
   ],
   "source": [
    "df_results = pd.DataFrame({\"Logistic Regression\": results_lr, \"Random Forest\": results_rn})\n",
    "df_results.describe()"
   ]
  },
  {
   "cell_type": "code",
   "execution_count": 14,
   "metadata": {},
   "outputs": [
    {
     "name": "stdout",
     "output_type": "stream",
     "text": [
      "Random Forest\n"
     ]
    }
   ],
   "source": [
    "if (df_results['Logistic Regression'].mean() > df_results['Random Forest'].mean()):\n",
    "    print(\"Logistic Regression\")\n",
    "else:\n",
    "    print(\"Random Forest\")\n",
    "\n",
    "# Compare the results at any round\n",
    "df_results[\"Logistic Better\"] = df_results['Logistic Regression'] > df_results['Random Forest']\n",
    "df_results[\"Random Better\"] = df_results['Logistic Regression'] < df_results['Random Forest']\n"
   ]
  },
  {
   "cell_type": "code",
   "execution_count": 15,
   "metadata": {},
   "outputs": [],
   "source": [
    "df_results = df_results.drop(columns=[\"Logistic Better\", \"Random Better\"])"
   ]
  },
  {
   "cell_type": "code",
   "execution_count": 16,
   "metadata": {},
   "outputs": [
    {
     "data": {
      "text/plain": [
       "<bound method NDFrame.describe of     Logistic Regression  Random Forest                 Aval\n",
       "0              0.764925       0.832090        Random Forest\n",
       "1              0.772388       0.832090        Random Forest\n",
       "2              0.746269       0.805970        Random Forest\n",
       "3              0.820896       0.832090        Random Forest\n",
       "4              0.768657       0.794776        Random Forest\n",
       "5              0.776119       0.817164        Random Forest\n",
       "6              0.820896       0.817164  Logistic Regression\n",
       "7              0.817164       0.832090        Random Forest\n",
       "8              0.805970       0.820896        Random Forest\n",
       "9              0.757463       0.776119        Random Forest\n",
       "10             0.768657       0.813433        Random Forest\n",
       "11             0.776119       0.832090        Random Forest\n",
       "12             0.824627       0.824627                Equal\n",
       "13             0.809701       0.798507  Logistic Regression\n",
       "14             0.828358       0.820896  Logistic Regression\n",
       "15             0.828358       0.828358                Equal\n",
       "16             0.794776       0.776119  Logistic Regression\n",
       "17             0.839552       0.843284        Random Forest\n",
       "18             0.813433       0.820896        Random Forest\n",
       "19             0.779851       0.832090        Random Forest\n",
       "20             0.794776       0.787313  Logistic Regression\n",
       "21             0.768657       0.809701        Random Forest\n",
       "22             0.787313       0.776119  Logistic Regression\n",
       "23             0.783582       0.783582                Equal\n",
       "24             0.824627       0.824627                Equal>"
      ]
     },
     "execution_count": 16,
     "metadata": {},
     "output_type": "execute_result"
    }
   ],
   "source": [
    "for i in range(25):\n",
    "    if (df_results.loc[i,('Logistic Regression')] > df_results.loc[i,('Random Forest')]):\n",
    "        df_results.loc[i, (\"Aval\")] = \"Logistic Regression\"\n",
    "    elif (df_results.loc[i,('Logistic Regression')] < df_results.loc[i,('Random Forest')]):\n",
    "        df_results.loc[i, (\"Aval\")] = \"Random Forest\"\n",
    "    else:\n",
    "        df_results.loc[i, (\"Aval\")] = \"Equal\"\n",
    "\n",
    "df_results['Aval'].value_counts()\n",
    "df_results.describe"
   ]
  },
  {
   "cell_type": "markdown",
   "metadata": {},
   "source": [
    "# Third Experiment"
   ]
  },
  {
   "cell_type": "code",
   "execution_count": 17,
   "metadata": {},
   "outputs": [],
   "source": [
    "results_rn = []\n",
    "results_lr = []\n",
    "\n",
    "\n",
    "local_seed = 11\n",
    "for i in range(25):\n",
    "    X_train, X_test, y_train, y_test = train_test_split(X, y, test_size=0.3, stratify=y, random_state=local_seed)\n",
    "    #Logistic Regression\n",
    "    pipe_dt = Pipeline(\n",
    "        [('preprocessor', preprocessor), \n",
    "        ('estimator', LogisticRegression(random_state=seed))]\n",
    "    )\n",
    "    #Random Forest\n",
    "    pipe_rn = Pipeline(\n",
    "        [(\"preprocessor\", preprocessor),\n",
    "        (\"estimator\", RandomForestClassifier(random_state=seed))]\n",
    "    )\n",
    "    acc_lr = predict_model(pipe_dt, X_train, X_test, y_test)\n",
    "    acc_rn = predict_model(pipe_rn, X_train, X_test, y_test)\n",
    "    results_lr.append(acc_lr)\n",
    "    results_rn.append(acc_rn)\n",
    "    \n",
    "    local_seed = local_seed + 10"
   ]
  },
  {
   "cell_type": "code",
   "execution_count": 18,
   "metadata": {},
   "outputs": [
    {
     "data": {
      "text/html": [
       "<div>\n",
       "<style scoped>\n",
       "    .dataframe tbody tr th:only-of-type {\n",
       "        vertical-align: middle;\n",
       "    }\n",
       "\n",
       "    .dataframe tbody tr th {\n",
       "        vertical-align: top;\n",
       "    }\n",
       "\n",
       "    .dataframe thead th {\n",
       "        text-align: right;\n",
       "    }\n",
       "</style>\n",
       "<table border=\"1\" class=\"dataframe\">\n",
       "  <thead>\n",
       "    <tr style=\"text-align: right;\">\n",
       "      <th></th>\n",
       "      <th>Logistic Regression</th>\n",
       "      <th>Random Forest</th>\n",
       "    </tr>\n",
       "  </thead>\n",
       "  <tbody>\n",
       "    <tr>\n",
       "      <th>count</th>\n",
       "      <td>25.000000</td>\n",
       "      <td>25.000000</td>\n",
       "    </tr>\n",
       "    <tr>\n",
       "      <th>mean</th>\n",
       "      <td>0.794925</td>\n",
       "      <td>0.813284</td>\n",
       "    </tr>\n",
       "    <tr>\n",
       "      <th>std</th>\n",
       "      <td>0.026527</td>\n",
       "      <td>0.020451</td>\n",
       "    </tr>\n",
       "    <tr>\n",
       "      <th>min</th>\n",
       "      <td>0.746269</td>\n",
       "      <td>0.776119</td>\n",
       "    </tr>\n",
       "    <tr>\n",
       "      <th>25%</th>\n",
       "      <td>0.772388</td>\n",
       "      <td>0.798507</td>\n",
       "    </tr>\n",
       "    <tr>\n",
       "      <th>50%</th>\n",
       "      <td>0.794776</td>\n",
       "      <td>0.820896</td>\n",
       "    </tr>\n",
       "    <tr>\n",
       "      <th>75%</th>\n",
       "      <td>0.820896</td>\n",
       "      <td>0.832090</td>\n",
       "    </tr>\n",
       "    <tr>\n",
       "      <th>max</th>\n",
       "      <td>0.839552</td>\n",
       "      <td>0.843284</td>\n",
       "    </tr>\n",
       "  </tbody>\n",
       "</table>\n",
       "</div>"
      ],
      "text/plain": [
       "       Logistic Regression  Random Forest\n",
       "count            25.000000      25.000000\n",
       "mean              0.794925       0.813284\n",
       "std               0.026527       0.020451\n",
       "min               0.746269       0.776119\n",
       "25%               0.772388       0.798507\n",
       "50%               0.794776       0.820896\n",
       "75%               0.820896       0.832090\n",
       "max               0.839552       0.843284"
      ]
     },
     "execution_count": 18,
     "metadata": {},
     "output_type": "execute_result"
    }
   ],
   "source": [
    "df_3t = pd.DataFrame({\"Logistic Regression\": results_lr, \"Random Forest\": results_rn})\n",
    "df_3t.describe()"
   ]
  },
  {
   "cell_type": "code",
   "execution_count": 19,
   "metadata": {},
   "outputs": [
    {
     "name": "stderr",
     "output_type": "stream",
     "text": [
      "/home/joao/.local/lib/python3.8/site-packages/seaborn/distributions.py:2619: FutureWarning: `distplot` is a deprecated function and will be removed in a future version. Please adapt your code to use either `displot` (a figure-level function with similar flexibility) or `histplot` (an axes-level function for histograms).\n",
      "  warnings.warn(msg, FutureWarning)\n",
      "/home/joao/.local/lib/python3.8/site-packages/seaborn/distributions.py:2619: FutureWarning: `distplot` is a deprecated function and will be removed in a future version. Please adapt your code to use either `displot` (a figure-level function with similar flexibility) or `histplot` (an axes-level function for histograms).\n",
      "  warnings.warn(msg, FutureWarning)\n"
     ]
    },
    {
     "data": {
      "image/png": "[encoded data removed]",
      "text/plain": [
       "<Figure size 864x576 with 1 Axes>"
      ]
     },
     "metadata": {
      "needs_background": "light"
     },
     "output_type": "display_data"
    }
   ],
   "source": [
    "fig = plt.figure(figsize=(12, 8))\n",
    "ax = sns.distplot(df_3t[\"Logistic Regression\"], label = \"Logistic Regression\", color = \"blue\")\n",
    "ax = sns.distplot(df_3t[\"Random Forest\"], label= \"Random Forest\", color= \"red\")\n",
    "# fig.legend(labels=['Logistic Regression','Random Forest'])\n",
    "fig.legend()\n",
    "plt.show()"
   ]
  },
  {
   "cell_type": "code",
   "execution_count": 20,
   "metadata": {},
   "outputs": [
    {
     "data": {
      "image/png": "[encoded data removed]",
      "text/plain": [
       "<Figure size 648x360 with 2 Axes>"
      ]
     },
     "metadata": {
      "needs_background": "light"
     },
     "output_type": "display_data"
    }
   ],
   "source": [
    "fig = plt.figure(figsize=(9, 5))\n",
    "fig.suptitle(\"Histograma\")\n",
    "fig.add_subplot(121)\n",
    "ax = sns.histplot(df_3t[\"Logistic Regression\"], label = \"Logistic Regression\", color = \"blue\")\n",
    "ax.set_ylabel(\"Ocorrência\")\n",
    "fig.add_subplot(122)\n",
    "ax = sns.histplot(df_3t[\"Random Forest\"], label= \"Random Forest\", color= \"red\")\n",
    "ax.set_ylabel(\"Ocorrência\")\n",
    "plt.show()"
   ]
  },
  {
   "cell_type": "code",
   "execution_count": 21,
   "metadata": {},
   "outputs": [
    {
     "data": {
      "text/plain": [
       "(-2.7404474310073303, 0.006135559610784439)"
      ]
     },
     "execution_count": 21,
     "metadata": {},
     "output_type": "execute_result"
    }
   ],
   "source": [
    "alpha = 0.05\n",
    "z_calc, p_valor = ztest(x1=df_3t[\"Logistic Regression\"], x2 = df_3t[\"Random Forest\"], alternative='two-sided')\n",
    "z_calc, p_valor"
   ]
  },
  {
   "cell_type": "code",
   "execution_count": 22,
   "metadata": {},
   "outputs": [
    {
     "name": "stdout",
     "output_type": "stream",
     "text": [
      "Reject H0! - There is statistical difference between the LR and RN methods in terms of mean accuracies\n"
     ]
    }
   ],
   "source": [
    "if p_valor < alpha:\n",
    "    print(\"Reject H0! - There is statistical difference between the LR and RN methods in terms of mean accuracies\")\n",
    "else:\n",
    "    print(\"Do not reject H0! - Maybe there is no statistical difference between the LR and RN methods in terms of mean accuracies\")"
   ]
  }
 ],
 "metadata": {
  "interpreter": {
   "hash": "31f2aee4e71d21fbe5cf8b01ff0e069b9275f58929596ceb00d14d90e3e16cd6"
  },
  "kernelspec": {
   "display_name": "Python 3.6.9 64-bit",
   "language": "python",
   "name": "python3"
  },
  "language_info": {
   "codemirror_mode": {
    "name": "ipython",
    "version": 3
   },
   "file_extension": ".py",
   "mimetype": "text/x-python",
   "name": "python",
   "nbconvert_exporter": "python",
   "pygments_lexer": "ipython3",
   "version": "3.8.10"
  },
  "orig_nbformat": 4
 },
 "nbformat": 4,
 "nbformat_minor": 2
}
